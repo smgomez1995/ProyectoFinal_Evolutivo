{
 "cells": [
  {
   "cell_type": "markdown",
   "metadata": {},
   "source": [
    "# Proyecto Final"
   ]
  },
  {
   "cell_type": "markdown",
   "metadata": {},
   "source": [
    "## Downloading data"
   ]
  },
  {
   "cell_type": "code",
   "execution_count": 1,
   "metadata": {},
   "outputs": [],
   "source": [
    "import pandas as pd\n",
    "import sys\n",
    "import time\n",
    "import numpy as np\n",
    "from random import shuffle, random, sample, randint, randrange, uniform\n",
    "from copy import deepcopy\n",
    "import matplotlib.pyplot as plt\n",
    "from tqdm.notebook import tqdm\n",
    "from itertools import combinations"
   ]
  },
  {
   "cell_type": "code",
   "execution_count": 2,
   "metadata": {},
   "outputs": [],
   "source": [
    "candidatos = pd.read_excel(\"Candidatos_supermercados.xlsx\")"
   ]
  },
  {
   "cell_type": "code",
   "execution_count": 3,
   "metadata": {},
   "outputs": [
    {
     "data": {
      "text/html": [
       "<div>\n",
       "<style scoped>\n",
       "    .dataframe tbody tr th:only-of-type {\n",
       "        vertical-align: middle;\n",
       "    }\n",
       "\n",
       "    .dataframe tbody tr th {\n",
       "        vertical-align: top;\n",
       "    }\n",
       "\n",
       "    .dataframe thead th {\n",
       "        text-align: right;\n",
       "    }\n",
       "</style>\n",
       "<table border=\"1\" class=\"dataframe\">\n",
       "  <thead>\n",
       "    <tr style=\"text-align: right;\">\n",
       "      <th></th>\n",
       "      <th>ID</th>\n",
       "      <th>Descripcion</th>\n",
       "      <th>Latitud</th>\n",
       "      <th>Longitud</th>\n",
       "      <th>Poblacion500m</th>\n",
       "    </tr>\n",
       "  </thead>\n",
       "  <tbody>\n",
       "    <tr>\n",
       "      <th>0</th>\n",
       "      <td>Punto 1</td>\n",
       "      <td>Esq. Benavides con Nicolas Dueñas</td>\n",
       "      <td>-12.04861</td>\n",
       "      <td>-77.06496</td>\n",
       "      <td>16500</td>\n",
       "    </tr>\n",
       "    <tr>\n",
       "      <th>1</th>\n",
       "      <td>Ponto 2</td>\n",
       "      <td>Sta Bernardita con Republica de Venezuela</td>\n",
       "      <td>-12.05956</td>\n",
       "      <td>-77.07583</td>\n",
       "      <td>18000</td>\n",
       "    </tr>\n",
       "    <tr>\n",
       "      <th>2</th>\n",
       "      <td>Ponto 3</td>\n",
       "      <td>Santa Susana con Santa Gertrudis</td>\n",
       "      <td>-12.06524</td>\n",
       "      <td>-77.07334</td>\n",
       "      <td>17000</td>\n",
       "    </tr>\n",
       "    <tr>\n",
       "      <th>3</th>\n",
       "      <td>Ponto 4</td>\n",
       "      <td>Belizario Sosa Pelaez</td>\n",
       "      <td>-12.05998</td>\n",
       "      <td>-77.06300</td>\n",
       "      <td>15000</td>\n",
       "    </tr>\n",
       "    <tr>\n",
       "      <th>4</th>\n",
       "      <td>Ponto 5</td>\n",
       "      <td>Esq. Aurelio Garcia y Miranono Arredondo</td>\n",
       "      <td>-12.05541</td>\n",
       "      <td>-77.07497</td>\n",
       "      <td>17100</td>\n",
       "    </tr>\n",
       "  </tbody>\n",
       "</table>\n",
       "</div>"
      ],
      "text/plain": [
       "        ID                                Descripcion   Latitud  Longitud  \\\n",
       "0  Punto 1          Esq. Benavides con Nicolas Dueñas -12.04861 -77.06496   \n",
       "1  Ponto 2  Sta Bernardita con Republica de Venezuela -12.05956 -77.07583   \n",
       "2  Ponto 3           Santa Susana con Santa Gertrudis -12.06524 -77.07334   \n",
       "3  Ponto 4                      Belizario Sosa Pelaez -12.05998 -77.06300   \n",
       "4  Ponto 5   Esq. Aurelio Garcia y Miranono Arredondo -12.05541 -77.07497   \n",
       "\n",
       "   Poblacion500m  \n",
       "0          16500  \n",
       "1          18000  \n",
       "2          17000  \n",
       "3          15000  \n",
       "4          17100  "
      ]
     },
     "execution_count": 3,
     "metadata": {},
     "output_type": "execute_result"
    }
   ],
   "source": [
    "candidatos.head()"
   ]
  },
  {
   "cell_type": "code",
   "execution_count": 4,
   "metadata": {},
   "outputs": [],
   "source": [
    "class Item(object):\n",
    "    def __init__(self, latitud, longitud, poblacion):\n",
    "        self.latitud = latitud\n",
    "        self.longitud = longitud\n",
    "        self.poblacion = poblacion"
   ]
  },
  {
   "cell_type": "code",
   "execution_count": 5,
   "metadata": {},
   "outputs": [],
   "source": [
    "ItemPool = []\n",
    "for i in range(len(candidatos)):\n",
    "    latitud = candidatos.iloc[i][\"Latitud\"]\n",
    "    longitud = candidatos.iloc[i][\"Longitud\"]\n",
    "    poblacion = candidatos.iloc[i][\"Poblacion500m\"]\n",
    "    ItemPool.append(Item(latitud, longitud, poblacion))"
   ]
  },
  {
   "cell_type": "code",
   "execution_count": 6,
   "metadata": {},
   "outputs": [],
   "source": [
    "def replace_char(text, pos, char_replaced):\n",
    "    list1 = list(text)\n",
    "    list1[pos] = char_replaced\n",
    "    text = \"\".join(list1)\n",
    "    return text\n",
    "\n",
    "\n",
    "def get_distance_between_stores(item_1, item_2):\n",
    "    x_dist = (item_2.longitud - item_1.longitud) ** 2\n",
    "    y_dist = (item_2.latitud - item_1.latitud) ** 2\n",
    "    return (x_dist + y_dist) ** (1 / 2)"
   ]
  },
  {
   "cell_type": "code",
   "execution_count": 7,
   "metadata": {},
   "outputs": [],
   "source": [
    "class Individual:\n",
    "    def __init__(self, chromosome):  # el constructor recibe un cromosoma\n",
    "        self.chromosome = chromosome[:]\n",
    "        self.chromosome = \"\".join(list(map(str, self.chromosome)))\n",
    "        self.fitness = -1  # -1 indica que el individuo no ha sido evaluado\n",
    "\n",
    "    def crossover_onepoint(self, other):\n",
    "        \"Retorna dos nuevos individuos del cruzamiento de un punto entre individuos self y other\"\n",
    "        c = randrange(len(self.chromosome))\n",
    "        ind1 = Individual(self.chromosome[:c] + other.chromosome[c:])\n",
    "        ind2 = Individual(other.chromosome[:c] + self.chromosome[c:])\n",
    "        return [ind1, ind2]\n",
    "\n",
    "    def crossover_uniform(self, other):\n",
    "        chromosome1 = []\n",
    "        chromosome2 = []\n",
    "        \"Retorna dos nuevos individuos del cruzamiento uniforme entre self y other \"\n",
    "        for i in range(len(self.chromosome)):\n",
    "            if uniform(0, 1) < 0.5:\n",
    "                chromosome1.append(self.chromosome[i])\n",
    "                chromosome2.append(other.chromosome[i])\n",
    "            else:\n",
    "                chromosome1.append(other.chromosome[i])\n",
    "                chromosome2.append(self.chromosome[i])\n",
    "        ind1 = Individual(chromosome1)\n",
    "        ind2 = Individual(chromosome2)\n",
    "        return [ind1, ind2]\n",
    "\n",
    "    def mutation_flip(self):\n",
    "        \"Cambia aleatoriamente el alelo de un gen.\"\n",
    "        new_chromosome = deepcopy(self.chromosome)\n",
    "        mutGene = randrange(0, len(new_chromosome))  # escoge un gen para mutar\n",
    "        if new_chromosome[mutGene] == \"0\":\n",
    "            # new_chromosome[mutGene] = '1'\n",
    "            replace_char(new_chromosome, mutGene, \"1\")\n",
    "        else:\n",
    "            # new_chromosome[mutGene] = '0'\n",
    "            replace_char(new_chromosome, mutGene, \"0\")\n",
    "        return Individual(new_chromosome)\n",
    "\n",
    "    def poblacion(self, ItemPool=ItemPool):\n",
    "        poblacion = 0\n",
    "        for i in range(len(self.chromosome)):\n",
    "            if self.chromosome[i] == \"1\":\n",
    "                poblacion += ItemPool[i].poblacion\n",
    "        return poblacion\n",
    "\n",
    "    def distancia(self, ItemPool=ItemPool):\n",
    "        items_presents = []\n",
    "        distancia = 0\n",
    "        for i in range(len(self.chromosome)):\n",
    "            if self.chromosome[i] == \"1\":\n",
    "                items_presents.append(ItemPool[i])\n",
    "\n",
    "        for item_1, item_2 in combinations(items_presents, 2):\n",
    "            distancia += get_distance_between_stores(item_1, item_2)\n",
    "\n",
    "        return distancia\n",
    "\n",
    "    def graph_indi(self, ItemPool=ItemPool):\n",
    "        count = 0\n",
    "        items_presents = []\n",
    "        fig = plt.figure()\n",
    "        for i in range(len(self.chromosome)):\n",
    "            if self.chromosome[i] == \"1\":\n",
    "                count += 1\n",
    "                items_presents.append(ItemPool[i])\n",
    "\n",
    "        latitudes = [item.latitud for item in items_presents]\n",
    "        longitudes = [item.longitud for item in items_presents]\n",
    "        plt.scatter(longitudes, latitudes)\n",
    "        plt.title(\n",
    "            f\"Poblacion = {self.poblacion(ItemPool)}, Distancia = {round(self.distancia(ItemPool),4)}\"\n",
    "        )\n",
    "        plt.xlabel('Longitud °')\n",
    "        plt.ylabel('Latitud °')\n",
    "        plt.show()\n",
    "        plt.close()"
   ]
  },
  {
   "cell_type": "code",
   "execution_count": null,
   "metadata": {},
   "outputs": [],
   "source": [
    "## Hiperparametros del algoritmo genetico\n",
    "\n",
    "NUM_ITEMS = 60  # numero de items\n",
    "\n",
    "MAX_TIENDAS = 10  # maximo peso que puede soportar la mochila\n",
    "\n",
    "POP_SIZE = 100\n",
    "MIN_POP_SIZE = 100\n",
    "MAX_POP_SIZE = 100\n",
    "CHROMOSOME_SIZE = NUM_ITEMS\n",
    "GENERATIONS = 500  # numero de generaciones\n",
    "PMUT = 0.9  # tasa de mutacion"
   ]
  },
  {
   "cell_type": "markdown",
   "metadata": {},
   "source": [
    "## Mono-Objectivos\n",
    "En esta sección se establecen las clases que usaremos.\n",
    "Por facilidad, se ha convertido los algoritmos monoobjectivos en una sola clase llamada `monobjective`."
   ]
  },
  {
   "cell_type": "code",
   "execution_count": 9,
   "metadata": {},
   "outputs": [],
   "source": [
    "class monobjective:\n",
    "    def __init__(\n",
    "        self,\n",
    "        pmut_=0.1,\n",
    "        popsize_=100,\n",
    "        generations_=GENERATIONS,\n",
    "        crossover_=\"uniform\",\n",
    "        selection_method_=\"tournament\",\n",
    "        mutation_=\"flip\",\n",
    "        verbose=True,\n",
    "        weight_pop=1.5,\n",
    "        graph=True,\n",
    "    ):\n",
    "        self.PMUT = pmut_  # taza de mutacion\n",
    "        self.POPSIZE = popsize_  # numero de individuos\n",
    "        self.GENERATIONS = generations_  # numero de generaciones\n",
    "        self.CROSSOVER = crossover_\n",
    "        self.SELECTION_METHOD = selection_method_\n",
    "        self.MUTATION = mutation_\n",
    "        self.verbose = verbose\n",
    "        self.weight_pop = weight_pop\n",
    "        self.graph = graph\n",
    "\n",
    "    def get_fitness(self, chromosome, items, max_items):\n",
    "        \"\"\"Retorna el fitness del cromosoma pasado. Fitness es el valor total de los items incluidos en el cromosoma\n",
    "        Si el peso total es mayor que max_weight -> el fitness es 1\"\"\"\n",
    "        fitness = 0  # initialize fitness to 0\n",
    "        poblacion = 0\n",
    "        distancia = 0\n",
    "        cont = 0\n",
    "\n",
    "        ITEMS_from_chromosome_ = []\n",
    "        for i in range(NUM_ITEMS):\n",
    "            if chromosome[i] == \"1\":\n",
    "                cont += 1\n",
    "                ITEMS_from_chromosome_.append(ItemPool[i])\n",
    "\n",
    "        poblacion = np.sum([item.poblacion for item in ITEMS_from_chromosome_])\n",
    "\n",
    "        for item_1, item_2 in combinations(ITEMS_from_chromosome_, 2):\n",
    "            distancia += get_distance_between_stores(item_1, item_2)\n",
    "\n",
    "        if cont > max_items:\n",
    "            return 0\n",
    "\n",
    "        return poblacion / 1e5 * self.weight_pop + distancia\n",
    "\n",
    "    def evaluate_population(self, population, items, max_weight):\n",
    "        \"\"\"Evalua una poblacion de individuos con la funcion get_fitness\"\"\"\n",
    "        popsize = len(population)\n",
    "        for i in range(popsize):\n",
    "            if (\n",
    "                population[i].fitness == -1\n",
    "            ):  # evalua solo si el individuo no esta evaluado\n",
    "                population[i].fitness = self.get_fitness(\n",
    "                    population[i].chromosome, items, max_weight\n",
    "                )\n",
    "\n",
    "    def init_population(self, pop_size, chromosome_size):\n",
    "        # Inicializa una poblacion de pop_size individuos, cada cromosoma de individuo de tamaño chromosome_size.\n",
    "        population = []\n",
    "        for i in range(pop_size):\n",
    "            new_chromosome = np.zeros(chromosome_size)\n",
    "            # ones = randint(MAX_TIENDAS/5, MAX_TIENDAS)\n",
    "            ones = 10\n",
    "            new_chromosome[0:ones] = 1\n",
    "            np.random.shuffle(new_chromosome)\n",
    "            new_chromosome = np.array(list(map(int, new_chromosome)))\n",
    "            population.append(Individual(new_chromosome))\n",
    "        return population\n",
    "\n",
    "    def select_parents_roulette(self, population):\n",
    "        popsize = len(population)\n",
    "\n",
    "        # Escoje el primer padre\n",
    "        sumfitness = sum(\n",
    "            [indiv.fitness for indiv in population]\n",
    "        )  # suma total del fitness de la poblacion\n",
    "        pickfitness = uniform(\n",
    "            0, sumfitness\n",
    "        )  # escoge un numero aleatorio entre 0 y sumfitness\n",
    "        cumfitness = 0  # fitness acumulado\n",
    "        for i in range(popsize):\n",
    "            cumfitness += population[i].fitness\n",
    "            if cumfitness > pickfitness:\n",
    "                iParent1 = i\n",
    "                break\n",
    "\n",
    "        # Escoje el segundo padre, desconsiderando el primer padre\n",
    "        sumfitness = (\n",
    "            sumfitness - population[iParent1].fitness\n",
    "        )  # retira el fitness del padre ya escogido\n",
    "        pickfitness = uniform(\n",
    "            0, sumfitness\n",
    "        )  # escoge un numero aleatorio entre 0 y sumfitness\n",
    "        cumfitness = 0  # fitness acumulado\n",
    "        for i in range(popsize):\n",
    "            if i == iParent1:\n",
    "                continue  # si es el primer padre\n",
    "            cumfitness += population[i].fitness\n",
    "            if cumfitness > pickfitness:\n",
    "                iParent2 = i\n",
    "                break\n",
    "        return (population[iParent1], population[iParent2])\n",
    "\n",
    "    def select_parents_tournament(self, population, tournament_size):\n",
    "        # Escoje el primer padre\n",
    "        list_indiv = []\n",
    "        x1 = np.random.permutation(len(population))\n",
    "        y1 = x1[0:tournament_size]\n",
    "        for i in range(tournament_size):\n",
    "            list_indiv.append(population[y1[i]].fitness)\n",
    "\n",
    "        iParent1 = np.argmax(list_indiv)\n",
    "\n",
    "        # Escoje el segundo padre, desconsiderando el primer padre\n",
    "        x2 = np.delete(x1, iParent1)\n",
    "        x2 = np.random.permutation(x2)\n",
    "        list_indiv = []\n",
    "        y2 = x2[0:tournament_size]\n",
    "        for i in range(tournament_size):\n",
    "            list_indiv.append(population[y2[i]].fitness)\n",
    "        iParent2 = np.argmax(list_indiv)\n",
    "\n",
    "        return (population[x1[iParent1]], population[x2[iParent2]])\n",
    "\n",
    "    def select_survivors_ranking(self, population, offspring_population, numsurvivors):\n",
    "        next_population = []\n",
    "        population.extend(offspring_population)  # une las dos poblaciones\n",
    "        isurvivors = sorted(\n",
    "            range(len(population)), key=lambda i: population[i].fitness, reverse=True\n",
    "        )[:numsurvivors]\n",
    "        for i in range(numsurvivors):\n",
    "            next_population.append(population[isurvivors[i]])\n",
    "        return next_population\n",
    "\n",
    "    def genetic_algorithm(\n",
    "        self,\n",
    "        poblacion_inicial,\n",
    "        items,\n",
    "        max_weight,\n",
    "        ngen=100,\n",
    "        pmut=0.1,\n",
    "        crossover=\"onepoint\",\n",
    "        mutation=\"flip\",\n",
    "        selection_parents_method=\"roulette\",\n",
    "        selection_survivors_method=\"ranking\",\n",
    "    ):\n",
    "        \"\"\"Algoritmo Genetico para el problema de la mochila\n",
    "        items:      pool de items a escoger para la mochila.\n",
    "                    Debe ser una lista de objetos de clase Item\n",
    "        max_weight: maximo peso que puede soportar la mochila\n",
    "        ngen:       maximo numero de generaciones\n",
    "        pmut:       tasa de mutacion\n",
    "        crossover:  operador de cruzamiento\n",
    "        mutation:   operador de mutacion\n",
    "        selection_parents_method: método de selección de padres para cruzamiento\n",
    "        selection_survivors_method: método de selección de sobrevivientes\n",
    "        \"\"\"\n",
    "\n",
    "        population = deepcopy(\n",
    "            poblacion_inicial\n",
    "        )  # copia la poblacion inicial en una nueva variable para no alterar la inicial\n",
    "\n",
    "        popsize = len(population)\n",
    "        self.evaluate_population(\n",
    "            population, items, max_weight\n",
    "        )  # evalua la poblacion inicial\n",
    "        ibest = sorted(\n",
    "            range(len(population)), key=lambda i: population[i].fitness, reverse=True\n",
    "        )[\n",
    "            :1\n",
    "        ]  # mejor individuo\n",
    "        bestfitness = [population[ibest[0]].fitness]  # fitness del mejor individuo\n",
    "        if self.verbose == True:\n",
    "            print(\n",
    "                \"Poblacion inicial, best_fitness = {}\".format(\n",
    "                    population[ibest[0]].fitness\n",
    "                )\n",
    "            )\n",
    "\n",
    "        for g in range(ngen):  # Por cada generacion\n",
    "\n",
    "            ## Selecciona parejas de individuos (mating_pool) para cruzamiento con el metodo de la ruleta\n",
    "            mating_pool = []\n",
    "            for i in range(int(popsize / 2)):\n",
    "                if selection_parents_method == \"roulette\":\n",
    "                    mating_pool.append(self.select_parents_roulette(population))\n",
    "                elif selection_parents_method == \"tournament\":\n",
    "                    mating_pool.append(self.select_parents_tournament(population, 3))\n",
    "                else:\n",
    "                    raise NotImplementedError\n",
    "            ## Crea la poblacion descendencia cruzando las parejas del mating pool\n",
    "            offspring_population = []\n",
    "            for i in range(len(mating_pool)):\n",
    "                if crossover == \"onepoint\":\n",
    "                    offspring_population.extend(\n",
    "                        mating_pool[i][0].crossover_onepoint(mating_pool[i][1])\n",
    "                    )  # cruzamiento 1 punto\n",
    "                elif crossover == \"uniform\":\n",
    "                    offspring_population.extend(\n",
    "                        mating_pool[i][0].crossover_uniform(mating_pool[i][1])\n",
    "                    )  # cruzamiento uniforme\n",
    "                else:\n",
    "                    raise NotImplementedError\n",
    "\n",
    "            ## Aplica el operador de mutacion con probabilidad pmut en cada hijo generado\n",
    "            for i in range(len(offspring_population)):\n",
    "                if uniform(0, 1) < pmut:\n",
    "                    if mutation == \"flip\":\n",
    "                        offspring_population[i] = offspring_population[\n",
    "                            i\n",
    "                        ].mutation_flip()  # cambia el alelo de un gen\n",
    "                    elif mutation == \"inversion\":\n",
    "                        offspring_population[i] = offspring_population[\n",
    "                            i\n",
    "                        ].mutation_inversion()  # invierte todos los genes entre 2 puntos al azar\n",
    "                    elif mutation == \"multiflip\":\n",
    "                        offspring_population[i] = offspring_population[\n",
    "                            i\n",
    "                        ].mutation_multiflip()  # invierte N genes del cromosoma, donde N es menor o igual al 50% de la longitud del cromosoma\n",
    "                    else:\n",
    "                        raise NotImplementedError\n",
    "\n",
    "            ## Evalua la poblacion descendencia creada\n",
    "            self.evaluate_population(\n",
    "                offspring_population, items, max_weight\n",
    "            )  # evalua la poblacion descendencia\n",
    "\n",
    "            ## Selecciona individuos para la sgte. generación\n",
    "            if selection_survivors_method == \"ranking\":\n",
    "                population = self.select_survivors_ranking(\n",
    "                    population, offspring_population, popsize\n",
    "                )  # metodo de ranking\n",
    "            else:\n",
    "                raise NotImplementedError\n",
    "\n",
    "            ## Almacena la historia del fitness del mejor individuo\n",
    "            ibest = sorted(\n",
    "                range(len(population)),\n",
    "                key=lambda i: population[i].fitness,\n",
    "                reverse=True,\n",
    "            )[:1]\n",
    "            bestfitness.append(population[ibest[0]].fitness)\n",
    "\n",
    "            if self.verbose == True:\n",
    "                if g % 10 == 0:  # muestra resultados cada 10 generaciones\n",
    "                    print(\n",
    "                        \"generacion {}, (Mejor fitness = {})\".format(\n",
    "                            g, population[ibest[0]].fitness\n",
    "                        )\n",
    "                    )\n",
    "        if self.verbose == True:\n",
    "            print(\n",
    "                \"Mejor individuo en la ultima generacion = {} (fitness = {})\".format(\n",
    "                    population[ibest[0]].chromosome, population[ibest[0]].fitness\n",
    "                )\n",
    "            )\n",
    "        return (\n",
    "            population[ibest[0]],\n",
    "            bestfitness,\n",
    "        )  # devuelve el mejor individuo y la lista de mejores fitness x gen\n",
    "\n",
    "    def run_best_solution_monobjective(self):\n",
    "        poblacion_inicial = self.init_population(self.POPSIZE, NUM_ITEMS)\n",
    "\n",
    "        best_ind, bestfitness = self.genetic_algorithm(\n",
    "            poblacion_inicial,\n",
    "            ItemPool,\n",
    "            MAX_TIENDAS,\n",
    "            self.GENERATIONS,\n",
    "            self.PMUT,\n",
    "            crossover=self.CROSSOVER,\n",
    "            mutation=self.MUTATION,\n",
    "            selection_parents_method=self.SELECTION_METHOD,\n",
    "            selection_survivors_method=\"ranking\",\n",
    "        )\n",
    "        if self.graph == True:\n",
    "            best_ind.graph_indi(ItemPool)\n",
    "        return best_ind, bestfitness"
   ]
  },
  {
   "cell_type": "markdown",
   "metadata": {},
   "source": [
    "### Probando\n",
    "Se corre el algoritmo 10 veces.\n",
    "Cada vez que se corre, se crea una población nueva.\n",
    "\n",
    "Los resultados muestran que el algoritmo coloca a las tiendas con una `distancia promedio` de `4.83° +/- 0.07` y una `población promedio` de `142280 +/- 2677`. Hay que recordar que esta solución es para los específicos pesos que se han asignado (mirar fitness). "
   ]
  },
  {
   "cell_type": "code",
   "execution_count": 10,
   "metadata": {},
   "outputs": [
    {
     "data": {
      "image/png": "[encoded data removed]",
      "text/plain": [
       "<Figure size 432x288 with 1 Axes>"
      ]
     },
     "metadata": {
      "needs_background": "light"
     },
     "output_type": "display_data"
    },
    {
     "data": {
      "image/png": "[encoded data removed]",
      "text/plain": [
       "<Figure size 432x288 with 1 Axes>"
      ]
     },
     "metadata": {
      "needs_background": "light"
     },
     "output_type": "display_data"
    },
    {
     "data": {
      "image/png": "[encoded data removed]",
      "text/plain": [
       "<Figure size 432x288 with 1 Axes>"
      ]
     },
     "metadata": {
      "needs_background": "light"
     },
     "output_type": "display_data"
    },
    {
     "data": {
      "image/png": "[encoded data removed]",
      "text/plain": [
       "<Figure size 432x288 with 1 Axes>"
      ]
     },
     "metadata": {
      "needs_background": "light"
     },
     "output_type": "display_data"
    },
    {
     "data": {
      "image/png": "[encoded data removed]",
      "text/plain": [
       "<Figure size 432x288 with 1 Axes>"
      ]
     },
     "metadata": {
      "needs_background": "light"
     },
     "output_type": "display_data"
    },
    {
     "data": {
      "image/png": "[encoded data removed]",
      "text/plain": [
       "<Figure size 432x288 with 1 Axes>"
      ]
     },
     "metadata": {
      "needs_background": "light"
     },
     "output_type": "display_data"
    },
    {
     "data": {
      "image/png": "[encoded data removed]",
      "text/plain": [
       "<Figure size 432x288 with 1 Axes>"
      ]
     },
     "metadata": {
      "needs_background": "light"
     },
     "output_type": "display_data"
    },
    {
     "data": {
      "image/png": "[encoded data removed]",
      "text/plain": [
       "<Figure size 432x288 with 1 Axes>"
      ]
     },
     "metadata": {
      "needs_background": "light"
     },
     "output_type": "display_data"
    },
    {
     "data": {
      "image/png": "[encoded data removed]",
      "text/plain": [
       "<Figure size 432x288 with 1 Axes>"
      ]
     },
     "metadata": {
      "needs_background": "light"
     },
     "output_type": "display_data"
    },
    {
     "data": {
      "image/png": "[encoded data removed]",
      "text/plain": [
       "<Figure size 432x288 with 1 Axes>"
      ]
     },
     "metadata": {
      "needs_background": "light"
     },
     "output_type": "display_data"
    }
   ],
   "source": [
    "\n",
    "data_mono = []\n",
    "for i in range(10):\n",
    "    mono = monobjective(verbose=False, weight_pop=2.5)\n",
    "    best_ind, bestfitness = mono.run_best_solution_monobjective()\n",
    "    data_mono.append([i, best_ind.poblacion(), best_ind.distancia()])"
   ]
  },
  {
   "cell_type": "code",
   "execution_count": 11,
   "metadata": {},
   "outputs": [],
   "source": [
    "results_mono = pd.DataFrame(data_mono, columns=[\"Trial\", \"Poblacion\", \"Distancia\"])"
   ]
  },
  {
   "cell_type": "code",
   "execution_count": 12,
   "metadata": {},
   "outputs": [
    {
     "data": {
      "text/html": [
       "<div>\n",
       "<style scoped>\n",
       "    .dataframe tbody tr th:only-of-type {\n",
       "        vertical-align: middle;\n",
       "    }\n",
       "\n",
       "    .dataframe tbody tr th {\n",
       "        vertical-align: top;\n",
       "    }\n",
       "\n",
       "    .dataframe thead th {\n",
       "        text-align: right;\n",
       "    }\n",
       "</style>\n",
       "<table border=\"1\" class=\"dataframe\">\n",
       "  <thead>\n",
       "    <tr style=\"text-align: right;\">\n",
       "      <th></th>\n",
       "      <th>Trial</th>\n",
       "      <th>Poblacion</th>\n",
       "      <th>Distancia</th>\n",
       "    </tr>\n",
       "  </thead>\n",
       "  <tbody>\n",
       "    <tr>\n",
       "      <th>0</th>\n",
       "      <td>0</td>\n",
       "      <td>148700</td>\n",
       "      <td>4.639124</td>\n",
       "    </tr>\n",
       "    <tr>\n",
       "      <th>1</th>\n",
       "      <td>1</td>\n",
       "      <td>141600</td>\n",
       "      <td>4.874047</td>\n",
       "    </tr>\n",
       "    <tr>\n",
       "      <th>2</th>\n",
       "      <td>2</td>\n",
       "      <td>139900</td>\n",
       "      <td>4.892417</td>\n",
       "    </tr>\n",
       "    <tr>\n",
       "      <th>3</th>\n",
       "      <td>3</td>\n",
       "      <td>143300</td>\n",
       "      <td>4.825402</td>\n",
       "    </tr>\n",
       "    <tr>\n",
       "      <th>4</th>\n",
       "      <td>4</td>\n",
       "      <td>140400</td>\n",
       "      <td>4.888805</td>\n",
       "    </tr>\n",
       "    <tr>\n",
       "      <th>5</th>\n",
       "      <td>5</td>\n",
       "      <td>140350</td>\n",
       "      <td>4.837832</td>\n",
       "    </tr>\n",
       "    <tr>\n",
       "      <th>6</th>\n",
       "      <td>6</td>\n",
       "      <td>143000</td>\n",
       "      <td>4.828719</td>\n",
       "    </tr>\n",
       "    <tr>\n",
       "      <th>7</th>\n",
       "      <td>7</td>\n",
       "      <td>141050</td>\n",
       "      <td>4.842017</td>\n",
       "    </tr>\n",
       "    <tr>\n",
       "      <th>8</th>\n",
       "      <td>8</td>\n",
       "      <td>144100</td>\n",
       "      <td>4.811009</td>\n",
       "    </tr>\n",
       "    <tr>\n",
       "      <th>9</th>\n",
       "      <td>9</td>\n",
       "      <td>140400</td>\n",
       "      <td>4.906275</td>\n",
       "    </tr>\n",
       "  </tbody>\n",
       "</table>\n",
       "</div>"
      ],
      "text/plain": [
       "   Trial  Poblacion  Distancia\n",
       "0      0     148700   4.639124\n",
       "1      1     141600   4.874047\n",
       "2      2     139900   4.892417\n",
       "3      3     143300   4.825402\n",
       "4      4     140400   4.888805\n",
       "5      5     140350   4.837832\n",
       "6      6     143000   4.828719\n",
       "7      7     141050   4.842017\n",
       "8      8     144100   4.811009\n",
       "9      9     140400   4.906275"
      ]
     },
     "execution_count": 12,
     "metadata": {},
     "output_type": "execute_result"
    }
   ],
   "source": [
    "results_mono"
   ]
  },
  {
   "cell_type": "code",
   "execution_count": 13,
   "metadata": {},
   "outputs": [
    {
     "data": {
      "text/plain": [
       "Trial             4.500000\n",
       "Poblacion    142280.000000\n",
       "Distancia         4.834565\n",
       "dtype: float64"
      ]
     },
     "execution_count": 13,
     "metadata": {},
     "output_type": "execute_result"
    }
   ],
   "source": [
    "results_mono.mean()"
   ]
  },
  {
   "cell_type": "code",
   "execution_count": 14,
   "metadata": {},
   "outputs": [
    {
     "data": {
      "text/plain": [
       "Trial           3.027650\n",
       "Poblacion    2677.498833\n",
       "Distancia       0.075958\n",
       "dtype: float64"
      ]
     },
     "execution_count": 14,
     "metadata": {},
     "output_type": "execute_result"
    }
   ],
   "source": [
    "results_mono.std()"
   ]
  },
  {
   "cell_type": "markdown",
   "metadata": {},
   "source": [
    "## MultiObjectivos"
   ]
  },
  {
   "cell_type": "code",
   "execution_count": 15,
   "metadata": {},
   "outputs": [],
   "source": [
    "class multiobjective:\n",
    "    def __init__(self, verbose=False):\n",
    "        self.PMUT = 0.9  # tasa de mutacion\n",
    "        self.verbose = verbose\n",
    "\n",
    "    def get_fitness(self, chromosome, items, max_items):\n",
    "        \"\"\"Retorna los fitness del cromosoma pasado [valor_de_la_mochila, ligereza]\"\"\"\n",
    "        fitness = np.zeros(\n",
    "            2\n",
    "        )  # 2 objetivos, fitness[0] es valor, fitness[1] es 1/peso (ligereza)\n",
    "        poblacion = 0\n",
    "        distancia = 0\n",
    "        cont = 0\n",
    "\n",
    "        ITEMS_from_chromosome_ = []\n",
    "        for i in range(NUM_ITEMS):\n",
    "            if chromosome[i] == \"1\":\n",
    "                cont += 1\n",
    "                ITEMS_from_chromosome_.append(ItemPool[i])\n",
    "\n",
    "        poblacion = np.sum([item.poblacion for item in ITEMS_from_chromosome_])\n",
    "\n",
    "        for item_1, item_2 in combinations(ITEMS_from_chromosome_, 2):\n",
    "            distancia += get_distance_between_stores(item_1, item_2)\n",
    "\n",
    "        if cont > max_items:\n",
    "            fitness[0] = 0.5\n",
    "            fitness[1] = 0.5\n",
    "        else:\n",
    "            fitness[0] = poblacion\n",
    "            fitness[1] = distancia\n",
    "\n",
    "        return fitness\n",
    "\n",
    "    def init_population(self, pop_size, chromosome_size):\n",
    "        # Inicializa una poblacion de pop_size individuos, cada cromosoma de individuo de tamaño chromosome_size.\n",
    "        population = []\n",
    "        for i in range(pop_size):\n",
    "            new_chromosome = np.zeros(chromosome_size)\n",
    "            # ones = randint(MAX_TIENDAS/5, MAX_TIENDAS)\n",
    "            ones = 10\n",
    "            new_chromosome[0:ones] = 1\n",
    "            np.random.shuffle(new_chromosome)\n",
    "            new_chromosome = np.array(list(map(int, new_chromosome)))\n",
    "            population.append(Individual(new_chromosome))\n",
    "        return population\n",
    "\n",
    "    def evaluate_population(self, population, items, max_weight):\n",
    "        \"\"\"Evalua una poblacion de individuos con la funcion get_fitness\"\"\"\n",
    "        pop_size = len(population)\n",
    "\n",
    "        for i in range(pop_size):\n",
    "            if (\n",
    "                population[i].fitness == -1\n",
    "            ):  # evalua solo si el individuo no esta evaluado\n",
    "                population[i].fitness = self.get_fitness(\n",
    "                    population[i].chromosome, items, max_weight\n",
    "                )\n",
    "\n",
    "    def build_offspring_population(self, population, crossover, mutation, pmut):\n",
    "        \"\"\"Construye una poblacion hija con los operadores de cruzamiento y mutacion pasados\n",
    "        crossover:  operador de cruzamiento\n",
    "        mutation:   operador de mutacion\n",
    "        pmut:       taza de mutacion\n",
    "        \"\"\"\n",
    "        pop_size = len(population)\n",
    "\n",
    "        ## Selecciona parejas de individuos (mating_pool) para cruzamiento\n",
    "\n",
    "        mating_pool = []\n",
    "        for i in range(int(pop_size / 2)):\n",
    "            # escoje dos individuos diferentes aleatoriamente de la poblacion\n",
    "            permut = np.random.permutation(pop_size)\n",
    "            mating_pool.append((population[permut[0]], population[permut[1]]))\n",
    "\n",
    "        ## Crea la poblacion descendencia cruzando las parejas del mating pool\n",
    "        offspring_population = []\n",
    "        for i in range(len(mating_pool)):\n",
    "            if crossover == \"onepoint\":\n",
    "                offspring_population.extend(\n",
    "                    mating_pool[i][0].crossover_onepoint(mating_pool[i][1])\n",
    "                )  # cruzamiento 1 punto\n",
    "            elif crossover == \"uniform\":\n",
    "                offspring_population.extend(\n",
    "                    mating_pool[i][0].crossover_uniform(mating_pool[i][1])\n",
    "                )  # cruzamiento uniforme\n",
    "            else:\n",
    "                raise NotImplementedError\n",
    "\n",
    "        ## Aplica el operador de mutacion con probabilidad pmut en cada hijo generado\n",
    "        for i in range(len(offspring_population)):\n",
    "            if uniform(0, 1) < pmut:\n",
    "                if mutation == \"flip\":\n",
    "                    offspring_population[i] = offspring_population[\n",
    "                        i\n",
    "                    ].mutation_flip()  # cambia el alelo de un gen\n",
    "                else:\n",
    "                    raise NotImplementedError\n",
    "\n",
    "        return offspring_population\n",
    "\n",
    "    def get_crowding_distances(self, fitnesses):\n",
    "        \"\"\"\n",
    "        La distancia crowding de un individuo es la diferencia del fitness mas proximo hacia arriba menos el fitness mas proximo\n",
    "        hacia abajo. El valor crowding total es la suma de todas las distancias crowdings para todos los fitness\n",
    "        \"\"\"\n",
    "\n",
    "        pop_size = len(fitnesses[:, 0])\n",
    "        num_objectives = len(fitnesses[0, :])\n",
    "\n",
    "        # crea matriz crowding. Filas representan individuos, columnas representan objectives\n",
    "        crowding_matrix = np.zeros((pop_size, num_objectives))\n",
    "\n",
    "        # normalisa los fitnesses entre 0 y 1 (ptp es max - min)\n",
    "        normalized_fitnesses = (fitnesses - fitnesses.min(0)) / fitnesses.ptp(0)\n",
    "\n",
    "        for col in range(num_objectives):  # Por cada objective\n",
    "            crowding = np.zeros(pop_size)\n",
    "\n",
    "            # puntos extremos tienen maximo crowding\n",
    "            crowding[0] = 1\n",
    "            crowding[pop_size - 1] = 1\n",
    "\n",
    "            # ordena los fitness normalizados del objectivo actual\n",
    "            sorted_fitnesses = np.sort(normalized_fitnesses[:, col])\n",
    "            sorted_fitnesses_index = np.argsort(normalized_fitnesses[:, col])\n",
    "\n",
    "            # Calcula la distancia crowding de cada individuo como la diferencia de score de los vecinos\n",
    "            crowding[1 : pop_size - 1] = (\n",
    "                sorted_fitnesses[2:pop_size] - sorted_fitnesses[0 : pop_size - 2]\n",
    "            )\n",
    "\n",
    "            # obtiene el ordenamiento original\n",
    "            re_sort_order = np.argsort(sorted_fitnesses_index)\n",
    "            sorted_crowding = crowding[re_sort_order]\n",
    "\n",
    "            # Salva las distancias crowdingpara el objetivo que se esta iterando\n",
    "            crowding_matrix[:, col] = sorted_crowding\n",
    "\n",
    "        # Obtiene las distancias crowding finales sumando las distancias crowding de cada objetivo\n",
    "        crowding_distances = np.sum(crowding_matrix, axis=1)\n",
    "\n",
    "        return crowding_distances\n",
    "\n",
    "    def select_by_crowding(self, population, num_individuals):\n",
    "        \"\"\"\n",
    "        Selecciona una poblacion de individuos basado en torneos de pares de individuos: dos individuos se escoge al azar\n",
    "        y se selecciona el mejor segun la distancia crowding. Se repite hasta obtener num_individuals individuos\n",
    "        \"\"\"\n",
    "        population = deepcopy(population)\n",
    "        pop_size = len(population)\n",
    "\n",
    "        num_objectives = len(population[0].fitness)\n",
    "\n",
    "        # extrae los fitness de la poblacion en la matriz fitnesses\n",
    "        fitnesses = np.zeros([pop_size, num_objectives])\n",
    "        for i in range(pop_size):\n",
    "            fitnesses[i, :] = population[i].fitness\n",
    "\n",
    "        # obtiene las  distancias  crowding\n",
    "        crowding_distances = self.get_crowding_distances(fitnesses)\n",
    "\n",
    "        population_selected = []  # poblacion escogida\n",
    "\n",
    "        for i in range(num_individuals):  # por cada individuo a seleccionar\n",
    "\n",
    "            # escoje dos individuos aleatoriamente de la poblacion no escogida aun\n",
    "            permut = np.random.permutation(len(population))\n",
    "            ind1_id = permut[0]\n",
    "            ind2_id = permut[1]\n",
    "\n",
    "            # Si ind1_id es el mejor\n",
    "            if crowding_distances[ind1_id] >= crowding_distances[ind2_id]:\n",
    "\n",
    "                # traslada el individuo ind1 de population a la lista de individuos seleccionados\n",
    "                population_selected.append(population.pop(ind1_id))\n",
    "                # remueve la distancia crowding del individuo seleccionado\n",
    "                crowding_distances = np.delete(crowding_distances, ind1_id, axis=0)\n",
    "\n",
    "            else:  # Si ind2_id es el mejor\n",
    "\n",
    "                # traslada el individuo ind2 de population a la lista de individuos seleccionados\n",
    "                population_selected.append(population.pop(ind2_id))\n",
    "                # remueve la distancia crowding del individuo seleccionado\n",
    "                crowding_distances = np.delete(crowding_distances, ind2_id, axis=0)\n",
    "\n",
    "        return population_selected\n",
    "\n",
    "    def get_paretofront_population(self, population):\n",
    "        \"\"\"\n",
    "        Obtiene de population la poblacion de individups de la frontera de Pareto,\n",
    "        \"\"\"\n",
    "        population = deepcopy(population)\n",
    "        pop_size = len(population)\n",
    "\n",
    "        # todos los individuos son inicialmente asumidos como la frontera de Pareto\n",
    "        pareto_front = np.ones(pop_size, dtype=bool)\n",
    "\n",
    "        for i in range(pop_size):  # Compara cada individuo contra todos los demas\n",
    "            for j in range(pop_size):\n",
    "                # Chequea si individuo 'i' es dominado por individuo 'j'\n",
    "                # if all(population[j].fitness >= population[i].fitness) and any(population[j].fitness > population[i].fitness):\n",
    "                # if str(all(population[j].fitness >= population[i].fitness)) and str(any(population[j].fitness > population[i].fitness)):\n",
    "                if all(\n",
    "                    np.asarray(population[j].fitness)\n",
    "                    >= np.asarray(population[i].fitness)\n",
    "                ) and any(\n",
    "                    np.asarray(population[j].fitness)\n",
    "                    > np.asarray(population[i].fitness)\n",
    "                ):\n",
    "                    # j domina i -> señaliza que individuo 'i' como no siendo parte de la frontera de Pareto\n",
    "                    pareto_front[i] = 0\n",
    "                    break  # Para la busqueda para 'i' (no es necesario hacer mas comparaciones)\n",
    "\n",
    "        paretofront_population = []\n",
    "        for i in range(\n",
    "            pop_size\n",
    "        ):  # construye la lista de individuos de la frontera de Pareto\n",
    "            if pareto_front[i] == 1:\n",
    "                paretofront_population.append(population[i])\n",
    "\n",
    "        return paretofront_population\n",
    "\n",
    "    def build_next_population(self, population, min_pop_size, max_pop_size):\n",
    "        \"\"\"\n",
    "        Construye la poblacion de la siguiente generacion añadiendo sucesivas fronteras de Pareto hasta\n",
    "        tener una poblacion de al menos min_pop_size individuos. Reduce la frontera de Pareto con el metodo de\n",
    "        crowding distance si al agregar la frontera excede el tamaño maximo de la poblacion (max_pop_size)\n",
    "        \"\"\"\n",
    "        population = deepcopy(population)\n",
    "        pareto_front = []\n",
    "        next_population = []\n",
    "\n",
    "        while (\n",
    "            len(next_population) < min_pop_size\n",
    "        ):  # mientras la poblacion no tenga el tamaño minimo\n",
    "            # obtiene la poblacion frontera de Pareto actual\n",
    "            paretofront_population = self.get_paretofront_population(population)\n",
    "\n",
    "            # si poblacion actual + paretofront excede el maximo permitido -> reduce paretofront con el metodo de crowding\n",
    "            combined_population_size = len(next_population) + len(\n",
    "                paretofront_population\n",
    "            )\n",
    "            if combined_population_size > max_pop_size:\n",
    "                paretofront_population = self.select_by_crowding(\n",
    "                    paretofront_population, max_pop_size - len(next_population)\n",
    "                )\n",
    "\n",
    "            # Adiciona la frontera de Pareto (original o reducida) a la poblacion en construccion\n",
    "            next_population.extend(paretofront_population)\n",
    "\n",
    "            # remueve de population los individuos que fueron agregados a next_population\n",
    "            for i in range(len(paretofront_population)):\n",
    "                for j in range(len(population)):\n",
    "                    array_i = np.asarray(\n",
    "                        [int(p) for p in paretofront_population[i].chromosome]\n",
    "                    )\n",
    "                    array_j = np.asarray(\n",
    "                        [int(p) for p in paretofront_population[j].chromosome]\n",
    "                    )\n",
    "                    if all(array_i == array_j):\n",
    "                        del population[j]\n",
    "                        break\n",
    "\n",
    "        return next_population\n",
    "\n",
    "    def run_pareto(self):\n",
    "        # Crea  una poblacion inicial\n",
    "        poblacion_inicial = self.init_population(MAX_POP_SIZE, NUM_ITEMS)\n",
    "\n",
    "        P = deepcopy(poblacion_inicial)\n",
    "\n",
    "        #  evalua la poblacion inicial\n",
    "        self.evaluate_population(P, ItemPool, MAX_TIENDAS)\n",
    "\n",
    "        ## Ejecuta los ciclos evolutivos\n",
    "        for g in tqdm(range(GENERATIONS)):  # Por cada generacion\n",
    "            if self.verbose == True:\n",
    "                if g % 10 == 0:\n",
    "                    print(\"Generacion {} (de {}) \".format(g, GENERATIONS))\n",
    "\n",
    "            ## genera y evalua la poblacion hija\n",
    "            Q = self.build_offspring_population(P, \"uniform\", \"flip\", self.PMUT)\n",
    "            self.evaluate_population(Q, ItemPool, MAX_TIENDAS)\n",
    "\n",
    "            ## une la poblacion padre y la poblacion hija\n",
    "            P.extend(Q)\n",
    "\n",
    "            ## Construye la poblacion de la siguiente generacion\n",
    "            P = self.build_next_population(P, MIN_POP_SIZE, MAX_POP_SIZE)\n",
    "\n",
    "        # Obtiene la poblacion de la frontera de pareto final\n",
    "        pareto_front_population = self.get_paretofront_population(P)\n",
    "\n",
    "        ## Plotea los individuos de la frontera de Pareto final\n",
    "        pop_size = len(pareto_front_population)\n",
    "        num_objectives = len(pareto_front_population[0].fitness)\n",
    "\n",
    "        # extrae los fitness de la poblacion en la matriz fitnesses\n",
    "        fitnesses = np.zeros([pop_size, num_objectives])\n",
    "        for i in range(pop_size):\n",
    "            fitnesses[i, :] = pareto_front_population[i].fitness\n",
    "\n",
    "        return fitnesses, pareto_front_population"
   ]
  },
  {
   "cell_type": "markdown",
   "metadata": {},
   "source": [
    "### Probando\n",
    "\n",
    "Se muetra los resultados de la clase multiobjectivos junto con los valores de monoobjectivo previamente obtenidos.\n",
    "Se aprecia que las soluciones mono son parte del límite de pareto. "
   ]
  },
  {
   "cell_type": "code",
   "execution_count": 16,
   "metadata": {},
   "outputs": [
    {
     "data": {
      "application/vnd.jupyter.widget-view+json": {
       "model_id": "e9658ae5ce714f1d86c47109219c8cbb",
       "version_major": 2,
       "version_minor": 0
      },
      "text/plain": [
       "  0%|          | 0/500 [00:00<?, ?it/s]"
      ]
     },
     "metadata": {},
     "output_type": "display_data"
    },
    {
     "data": {
      "image/png": "[encoded data removed]",
      "text/plain": [
       "<Figure size 432x288 with 1 Axes>"
      ]
     },
     "metadata": {
      "needs_background": "light"
     },
     "output_type": "display_data"
    }
   ],
   "source": [
    "multiobjective_ = multiobjective()\n",
    "fitness_pareto, pareto_population = multiobjective_.run_pareto()\n",
    "\n",
    "x1_pareto = fitness_pareto[:, 0]\n",
    "y1_pareto = fitness_pareto[:, 1]\n",
    "\n",
    "plt.plot(x1_pareto, y1_pareto, \"o\", label=\"Pareto\")\n",
    "plt.plot(results_mono[\"Poblacion\"], results_mono[\"Distancia\"], \"or\", label=\"Mono\")\n",
    "plt.xlabel('Poblacion')\n",
    "plt.ylabel('Distancia')\n",
    "plt.title('Soluciones')\n",
    "plt.legend()\n",
    "plt.show()"
   ]
  },
  {
   "cell_type": "markdown",
   "metadata": {},
   "source": [
    "## Varias iteraciones\n",
    "\n",
    "En este caso, cambiamos el peso que tenía asignado la variable población en el algoritmo monoobjectivo, por lo que tendremos distintos resultados. Se aprecia que mientras más peso, la población aumenta, y la distancia disminuye."
   ]
  },
  {
   "cell_type": "code",
   "execution_count": 17,
   "metadata": {},
   "outputs": [
    {
     "data": {
      "application/vnd.jupyter.widget-view+json": {
       "model_id": "a3c8a046534b4b16b545d30a98b44626",
       "version_major": 2,
       "version_minor": 0
      },
      "text/plain": [
       "  0%|          | 0/6 [00:00<?, ?it/s]"
      ]
     },
     "metadata": {},
     "output_type": "display_data"
    },
    {
     "data": {
      "application/vnd.jupyter.widget-view+json": {
       "model_id": "977ba8e4ee8147a597e04af445c26c1f",
       "version_major": 2,
       "version_minor": 0
      },
      "text/plain": [
       "  0%|          | 0/10 [00:00<?, ?it/s]"
      ]
     },
     "metadata": {},
     "output_type": "display_data"
    },
    {
     "data": {
      "application/vnd.jupyter.widget-view+json": {
       "model_id": "847634e77ad641b491bdf7f68377bad7",
       "version_major": 2,
       "version_minor": 0
      },
      "text/plain": [
       "  0%|          | 0/500 [00:00<?, ?it/s]"
      ]
     },
     "metadata": {},
     "output_type": "display_data"
    },
    {
     "data": {
      "image/png": "[encoded data removed]",
      "text/plain": [
       "<Figure size 432x288 with 1 Axes>"
      ]
     },
     "metadata": {
      "needs_background": "light"
     },
     "output_type": "display_data"
    },
    {
     "data": {
      "application/vnd.jupyter.widget-view+json": {
       "model_id": "1bfbcaeff1dc485ab92f8ca5feee9c62",
       "version_major": 2,
       "version_minor": 0
      },
      "text/plain": [
       "  0%|          | 0/10 [00:00<?, ?it/s]"
      ]
     },
     "metadata": {},
     "output_type": "display_data"
    },
    {
     "data": {
      "application/vnd.jupyter.widget-view+json": {
       "model_id": "23a3085115a640cb81956696674c73be",
       "version_major": 2,
       "version_minor": 0
      },
      "text/plain": [
       "  0%|          | 0/500 [00:00<?, ?it/s]"
      ]
     },
     "metadata": {},
     "output_type": "display_data"
    },
    {
     "data": {
      "image/png": "[encoded data removed]",
      "text/plain": [
       "<Figure size 432x288 with 1 Axes>"
      ]
     },
     "metadata": {
      "needs_background": "light"
     },
     "output_type": "display_data"
    },
    {
     "data": {
      "application/vnd.jupyter.widget-view+json": {
       "model_id": "6c637d9643294d09aca4e18d476142b6",
       "version_major": 2,
       "version_minor": 0
      },
      "text/plain": [
       "  0%|          | 0/10 [00:00<?, ?it/s]"
      ]
     },
     "metadata": {},
     "output_type": "display_data"
    },
    {
     "data": {
      "application/vnd.jupyter.widget-view+json": {
       "model_id": "0bbd97fc8a994d70b62ed2449420b125",
       "version_major": 2,
       "version_minor": 0
      },
      "text/plain": [
       "  0%|          | 0/500 [00:00<?, ?it/s]"
      ]
     },
     "metadata": {},
     "output_type": "display_data"
    },
    {
     "data": {
      "image/png": "[encoded data removed]",
      "text/plain": [
       "<Figure size 432x288 with 1 Axes>"
      ]
     },
     "metadata": {
      "needs_background": "light"
     },
     "output_type": "display_data"
    },
    {
     "data": {
      "application/vnd.jupyter.widget-view+json": {
       "model_id": "bf1399bb05d040d3a7a8e576b8c2bc31",
       "version_major": 2,
       "version_minor": 0
      },
      "text/plain": [
       "  0%|          | 0/10 [00:00<?, ?it/s]"
      ]
     },
     "metadata": {},
     "output_type": "display_data"
    },
    {
     "data": {
      "application/vnd.jupyter.widget-view+json": {
       "model_id": "79bc6789b33846eeb3db1d8279112892",
       "version_major": 2,
       "version_minor": 0
      },
      "text/plain": [
       "  0%|          | 0/500 [00:00<?, ?it/s]"
      ]
     },
     "metadata": {},
     "output_type": "display_data"
    },
    {
     "data": {
      "image/png": "[encoded data removed]",
      "text/plain": [
       "<Figure size 432x288 with 1 Axes>"
      ]
     },
     "metadata": {
      "needs_background": "light"
     },
     "output_type": "display_data"
    },
    {
     "data": {
      "application/vnd.jupyter.widget-view+json": {
       "model_id": "68521f8076c64290831829de039b9fe7",
       "version_major": 2,
       "version_minor": 0
      },
      "text/plain": [
       "  0%|          | 0/10 [00:00<?, ?it/s]"
      ]
     },
     "metadata": {},
     "output_type": "display_data"
    },
    {
     "data": {
      "application/vnd.jupyter.widget-view+json": {
       "model_id": "14bde28703224b3ca623b56d642c5cf9",
       "version_major": 2,
       "version_minor": 0
      },
      "text/plain": [
       "  0%|          | 0/500 [00:00<?, ?it/s]"
      ]
     },
     "metadata": {},
     "output_type": "display_data"
    },
    {
     "data": {
      "image/png": "[encoded data removed]",
      "text/plain": [
       "<Figure size 432x288 with 1 Axes>"
      ]
     },
     "metadata": {
      "needs_background": "light"
     },
     "output_type": "display_data"
    },
    {
     "data": {
      "application/vnd.jupyter.widget-view+json": {
       "model_id": "bc40b41c9ddf400da41b66ffba1cbd40",
       "version_major": 2,
       "version_minor": 0
      },
      "text/plain": [
       "  0%|          | 0/10 [00:00<?, ?it/s]"
      ]
     },
     "metadata": {},
     "output_type": "display_data"
    },
    {
     "data": {
      "application/vnd.jupyter.widget-view+json": {
       "model_id": "bcfff09b02514a2dbefefe66b1932af5",
       "version_major": 2,
       "version_minor": 0
      },
      "text/plain": [
       "  0%|          | 0/500 [00:00<?, ?it/s]"
      ]
     },
     "metadata": {},
     "output_type": "display_data"
    },
    {
     "data": {
      "image/png": "[encoded data removed]",
      "text/plain": [
       "<Figure size 432x288 with 1 Axes>"
      ]
     },
     "metadata": {
      "needs_background": "light"
     },
     "output_type": "display_data"
    }
   ],
   "source": [
    "for weight_pop_ in tqdm([2.0, 2.5, 3, 4, 5, 6]):\n",
    "    data_mono = []\n",
    "    fig = plt.figure()\n",
    "    ax = fig.add_subplot(1, 1, 1)\n",
    "    for i in tqdm(range(10)):\n",
    "        mono = monobjective(verbose=False, graph=False, weight_pop=weight_pop_)\n",
    "        best_ind, bestfitness = mono.run_best_solution_monobjective()\n",
    "        data_mono.append([i, best_ind.poblacion(), best_ind.distancia()])\n",
    "\n",
    "    results_mono = pd.DataFrame(data_mono, columns=[\"Trial\", \"Poblacion\", \"Distancia\"])\n",
    "\n",
    "    multiobjective_ = multiobjective()\n",
    "    fitness_pareto, pareto_population = multiobjective_.run_pareto()\n",
    "\n",
    "    x1_pareto = fitness_pareto[:, 0]\n",
    "    y1_pareto = fitness_pareto[:, 1]\n",
    "    ax.plot(x1_pareto, y1_pareto, \"o\", label=\"Pareto\")\n",
    "    ax.plot(results_mono[\"Poblacion\"], results_mono[\"Distancia\"], \"or\", label=\"Mono\")\n",
    "    plt.legend()\n",
    "    plt.title(f\"Population's weight: {weight_pop_}\")\n",
    "    plt.xlabel('Poblacion')\n",
    "    plt.ylabel('Distancia')\n",
    "    plt.title('Soluciones')\n",
    "    plt.show()\n",
    "    plt.cla()\n",
    "    plt.clf()\n",
    "    plt.close()"
   ]
  },
  {
   "cell_type": "code",
   "execution_count": null,
   "metadata": {},
   "outputs": [],
   "source": []
  }
 ],
 "metadata": {
  "kernelspec": {
   "display_name": "Python 3.9.6 64-bit ('3.9.6')",
   "language": "python",
   "name": "python3"
  },
  "language_info": {
   "codemirror_mode": {
    "name": "ipython",
    "version": 3
   },
   "file_extension": ".py",
   "mimetype": "text/x-python",
   "name": "python",
   "nbconvert_exporter": "python",
   "pygments_lexer": "ipython3",
   "version": "3.9.6"
  },
  "orig_nbformat": 4,
  "vscode": {
   "interpreter": {
    "hash": "38f45a2b69ebd7a1c362f438415da40ca4169608b91f53e7c625d9176639c733"
   }
  }
 },
 "nbformat": 4,
 "nbformat_minor": 2
}
